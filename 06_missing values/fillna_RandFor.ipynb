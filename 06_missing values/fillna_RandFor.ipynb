{
  "nbformat": 4,
  "nbformat_minor": 0,
  "metadata": {
    "colab": {
      "name": "fillna_RandFor.ipynb",
      "provenance": [],
      "collapsed_sections": []
    },
    "kernelspec": {
      "name": "python3",
      "display_name": "Python 3"
    },
    "language_info": {
      "name": "python"
    },
    "widgets": {
      "application/vnd.jupyter.widget-state+json": {
        "27544de0fe6c481093ad6b15ca49fb9c": {
          "model_module": "@jupyter-widgets/controls",
          "model_name": "HBoxModel",
          "state": {
            "_view_name": "HBoxView",
            "_dom_classes": [],
            "_model_name": "HBoxModel",
            "_view_module": "@jupyter-widgets/controls",
            "_model_module_version": "1.5.0",
            "_view_count": null,
            "_view_module_version": "1.5.0",
            "box_style": "",
            "layout": "IPY_MODEL_073beb209a2640e6aefc0e3dd8bdfb96",
            "_model_module": "@jupyter-widgets/controls",
            "children": [
              "IPY_MODEL_b604e7fdc5034afeb076e2340ba262c6",
              "IPY_MODEL_455bd584d73a4cdeb7cae2b00f2a24f5"
            ]
          }
        },
        "073beb209a2640e6aefc0e3dd8bdfb96": {
          "model_module": "@jupyter-widgets/base",
          "model_name": "LayoutModel",
          "state": {
            "_view_name": "LayoutView",
            "grid_template_rows": null,
            "right": null,
            "justify_content": null,
            "_view_module": "@jupyter-widgets/base",
            "overflow": null,
            "_model_module_version": "1.2.0",
            "_view_count": null,
            "flex_flow": null,
            "width": null,
            "min_width": null,
            "border": null,
            "align_items": null,
            "bottom": null,
            "_model_module": "@jupyter-widgets/base",
            "top": null,
            "grid_column": null,
            "overflow_y": null,
            "overflow_x": null,
            "grid_auto_flow": null,
            "grid_area": null,
            "grid_template_columns": null,
            "flex": null,
            "_model_name": "LayoutModel",
            "justify_items": null,
            "grid_row": null,
            "max_height": null,
            "align_content": null,
            "visibility": null,
            "align_self": null,
            "height": null,
            "min_height": null,
            "padding": null,
            "grid_auto_rows": null,
            "grid_gap": null,
            "max_width": null,
            "order": null,
            "_view_module_version": "1.2.0",
            "grid_template_areas": null,
            "object_position": null,
            "object_fit": null,
            "grid_auto_columns": null,
            "margin": null,
            "display": null,
            "left": null
          }
        },
        "b604e7fdc5034afeb076e2340ba262c6": {
          "model_module": "@jupyter-widgets/controls",
          "model_name": "FloatProgressModel",
          "state": {
            "_view_name": "ProgressView",
            "style": "IPY_MODEL_b014a907e1284b738812365ce72bc558",
            "_dom_classes": [],
            "description": "100%",
            "_model_name": "FloatProgressModel",
            "bar_style": "success",
            "max": 10,
            "_view_module": "@jupyter-widgets/controls",
            "_model_module_version": "1.5.0",
            "value": 10,
            "_view_count": null,
            "_view_module_version": "1.5.0",
            "orientation": "horizontal",
            "min": 0,
            "description_tooltip": null,
            "_model_module": "@jupyter-widgets/controls",
            "layout": "IPY_MODEL_f5c52ab3ba704d13b147bbdee07ce96d"
          }
        },
        "455bd584d73a4cdeb7cae2b00f2a24f5": {
          "model_module": "@jupyter-widgets/controls",
          "model_name": "HTMLModel",
          "state": {
            "_view_name": "HTMLView",
            "style": "IPY_MODEL_de7a6d1824304bfca4550eb5052a9c30",
            "_dom_classes": [],
            "description": "",
            "_model_name": "HTMLModel",
            "placeholder": "​",
            "_view_module": "@jupyter-widgets/controls",
            "_model_module_version": "1.5.0",
            "value": " 10/10 [00:02&lt;00:00,  4.25it/s]",
            "_view_count": null,
            "_view_module_version": "1.5.0",
            "description_tooltip": null,
            "_model_module": "@jupyter-widgets/controls",
            "layout": "IPY_MODEL_b0df9b98efdc42588bd80712087537c9"
          }
        },
        "b014a907e1284b738812365ce72bc558": {
          "model_module": "@jupyter-widgets/controls",
          "model_name": "ProgressStyleModel",
          "state": {
            "_view_name": "StyleView",
            "_model_name": "ProgressStyleModel",
            "description_width": "initial",
            "_view_module": "@jupyter-widgets/base",
            "_model_module_version": "1.5.0",
            "_view_count": null,
            "_view_module_version": "1.2.0",
            "bar_color": null,
            "_model_module": "@jupyter-widgets/controls"
          }
        },
        "f5c52ab3ba704d13b147bbdee07ce96d": {
          "model_module": "@jupyter-widgets/base",
          "model_name": "LayoutModel",
          "state": {
            "_view_name": "LayoutView",
            "grid_template_rows": null,
            "right": null,
            "justify_content": null,
            "_view_module": "@jupyter-widgets/base",
            "overflow": null,
            "_model_module_version": "1.2.0",
            "_view_count": null,
            "flex_flow": null,
            "width": null,
            "min_width": null,
            "border": null,
            "align_items": null,
            "bottom": null,
            "_model_module": "@jupyter-widgets/base",
            "top": null,
            "grid_column": null,
            "overflow_y": null,
            "overflow_x": null,
            "grid_auto_flow": null,
            "grid_area": null,
            "grid_template_columns": null,
            "flex": null,
            "_model_name": "LayoutModel",
            "justify_items": null,
            "grid_row": null,
            "max_height": null,
            "align_content": null,
            "visibility": null,
            "align_self": null,
            "height": null,
            "min_height": null,
            "padding": null,
            "grid_auto_rows": null,
            "grid_gap": null,
            "max_width": null,
            "order": null,
            "_view_module_version": "1.2.0",
            "grid_template_areas": null,
            "object_position": null,
            "object_fit": null,
            "grid_auto_columns": null,
            "margin": null,
            "display": null,
            "left": null
          }
        },
        "de7a6d1824304bfca4550eb5052a9c30": {
          "model_module": "@jupyter-widgets/controls",
          "model_name": "DescriptionStyleModel",
          "state": {
            "_view_name": "StyleView",
            "_model_name": "DescriptionStyleModel",
            "description_width": "",
            "_view_module": "@jupyter-widgets/base",
            "_model_module_version": "1.5.0",
            "_view_count": null,
            "_view_module_version": "1.2.0",
            "_model_module": "@jupyter-widgets/controls"
          }
        },
        "b0df9b98efdc42588bd80712087537c9": {
          "model_module": "@jupyter-widgets/base",
          "model_name": "LayoutModel",
          "state": {
            "_view_name": "LayoutView",
            "grid_template_rows": null,
            "right": null,
            "justify_content": null,
            "_view_module": "@jupyter-widgets/base",
            "overflow": null,
            "_model_module_version": "1.2.0",
            "_view_count": null,
            "flex_flow": null,
            "width": null,
            "min_width": null,
            "border": null,
            "align_items": null,
            "bottom": null,
            "_model_module": "@jupyter-widgets/base",
            "top": null,
            "grid_column": null,
            "overflow_y": null,
            "overflow_x": null,
            "grid_auto_flow": null,
            "grid_area": null,
            "grid_template_columns": null,
            "flex": null,
            "_model_name": "LayoutModel",
            "justify_items": null,
            "grid_row": null,
            "max_height": null,
            "align_content": null,
            "visibility": null,
            "align_self": null,
            "height": null,
            "min_height": null,
            "padding": null,
            "grid_auto_rows": null,
            "grid_gap": null,
            "max_width": null,
            "order": null,
            "_view_module_version": "1.2.0",
            "grid_template_areas": null,
            "object_position": null,
            "object_fit": null,
            "grid_auto_columns": null,
            "margin": null,
            "display": null,
            "left": null
          }
        }
      }
    }
  },
  "cells": [
    {
      "cell_type": "code",
      "metadata": {
        "id": "VPn3yt6MSHFq"
      },
      "source": [
        "import numpy as np\n",
        "import pandas as pd"
      ],
      "execution_count": null,
      "outputs": []
    },
    {
      "cell_type": "code",
      "metadata": {
        "id": "UCcbJlrRTM62"
      },
      "source": [
        "from sklearn.ensemble import RandomForestRegressor\n",
        "from sklearn.preprocessing import StandardScaler\n",
        "from tqdm.notebook import trange, tqdm"
      ],
      "execution_count": null,
      "outputs": []
    },
    {
      "cell_type": "code",
      "metadata": {
        "id": "F4SSd4BhvIpB"
      },
      "source": [
        "from sklearn.datasets import load_diabetes"
      ],
      "execution_count": null,
      "outputs": []
    },
    {
      "cell_type": "code",
      "metadata": {
        "colab": {
          "base_uri": "https://localhost:8080/"
        },
        "id": "I4CcPD5tvp9q",
        "outputId": "5cd960b7-caa2-4a6d-c17e-899ce2925086"
      },
      "source": [
        "load_diabetes().keys()"
      ],
      "execution_count": null,
      "outputs": [
        {
          "output_type": "execute_result",
          "data": {
            "text/plain": [
              "dict_keys(['data', 'target', 'DESCR', 'feature_names', 'data_filename', 'target_filename'])"
            ]
          },
          "metadata": {
            "tags": []
          },
          "execution_count": 4
        }
      ]
    },
    {
      "cell_type": "code",
      "metadata": {
        "colab": {
          "base_uri": "https://localhost:8080/",
          "height": 204
        },
        "id": "O-Y74RW-vVnV",
        "outputId": "f6716b21-1ccb-4124-a7de-b2b7829721e1"
      },
      "source": [
        "data = load_diabetes()\n",
        "feature_names = data.feature_names\n",
        "df = pd.DataFrame(data.data, columns = feature_names)\n",
        "df.head()"
      ],
      "execution_count": null,
      "outputs": [
        {
          "output_type": "execute_result",
          "data": {
            "text/html": [
              "<div>\n",
              "<style scoped>\n",
              "    .dataframe tbody tr th:only-of-type {\n",
              "        vertical-align: middle;\n",
              "    }\n",
              "\n",
              "    .dataframe tbody tr th {\n",
              "        vertical-align: top;\n",
              "    }\n",
              "\n",
              "    .dataframe thead th {\n",
              "        text-align: right;\n",
              "    }\n",
              "</style>\n",
              "<table border=\"1\" class=\"dataframe\">\n",
              "  <thead>\n",
              "    <tr style=\"text-align: right;\">\n",
              "      <th></th>\n",
              "      <th>age</th>\n",
              "      <th>sex</th>\n",
              "      <th>bmi</th>\n",
              "      <th>bp</th>\n",
              "      <th>s1</th>\n",
              "      <th>s2</th>\n",
              "      <th>s3</th>\n",
              "      <th>s4</th>\n",
              "      <th>s5</th>\n",
              "      <th>s6</th>\n",
              "    </tr>\n",
              "  </thead>\n",
              "  <tbody>\n",
              "    <tr>\n",
              "      <th>0</th>\n",
              "      <td>0.038076</td>\n",
              "      <td>0.050680</td>\n",
              "      <td>0.061696</td>\n",
              "      <td>0.021872</td>\n",
              "      <td>-0.044223</td>\n",
              "      <td>-0.034821</td>\n",
              "      <td>-0.043401</td>\n",
              "      <td>-0.002592</td>\n",
              "      <td>0.019908</td>\n",
              "      <td>-0.017646</td>\n",
              "    </tr>\n",
              "    <tr>\n",
              "      <th>1</th>\n",
              "      <td>-0.001882</td>\n",
              "      <td>-0.044642</td>\n",
              "      <td>-0.051474</td>\n",
              "      <td>-0.026328</td>\n",
              "      <td>-0.008449</td>\n",
              "      <td>-0.019163</td>\n",
              "      <td>0.074412</td>\n",
              "      <td>-0.039493</td>\n",
              "      <td>-0.068330</td>\n",
              "      <td>-0.092204</td>\n",
              "    </tr>\n",
              "    <tr>\n",
              "      <th>2</th>\n",
              "      <td>0.085299</td>\n",
              "      <td>0.050680</td>\n",
              "      <td>0.044451</td>\n",
              "      <td>-0.005671</td>\n",
              "      <td>-0.045599</td>\n",
              "      <td>-0.034194</td>\n",
              "      <td>-0.032356</td>\n",
              "      <td>-0.002592</td>\n",
              "      <td>0.002864</td>\n",
              "      <td>-0.025930</td>\n",
              "    </tr>\n",
              "    <tr>\n",
              "      <th>3</th>\n",
              "      <td>-0.089063</td>\n",
              "      <td>-0.044642</td>\n",
              "      <td>-0.011595</td>\n",
              "      <td>-0.036656</td>\n",
              "      <td>0.012191</td>\n",
              "      <td>0.024991</td>\n",
              "      <td>-0.036038</td>\n",
              "      <td>0.034309</td>\n",
              "      <td>0.022692</td>\n",
              "      <td>-0.009362</td>\n",
              "    </tr>\n",
              "    <tr>\n",
              "      <th>4</th>\n",
              "      <td>0.005383</td>\n",
              "      <td>-0.044642</td>\n",
              "      <td>-0.036385</td>\n",
              "      <td>0.021872</td>\n",
              "      <td>0.003935</td>\n",
              "      <td>0.015596</td>\n",
              "      <td>0.008142</td>\n",
              "      <td>-0.002592</td>\n",
              "      <td>-0.031991</td>\n",
              "      <td>-0.046641</td>\n",
              "    </tr>\n",
              "  </tbody>\n",
              "</table>\n",
              "</div>"
            ],
            "text/plain": [
              "        age       sex       bmi  ...        s4        s5        s6\n",
              "0  0.038076  0.050680  0.061696  ... -0.002592  0.019908 -0.017646\n",
              "1 -0.001882 -0.044642 -0.051474  ... -0.039493 -0.068330 -0.092204\n",
              "2  0.085299  0.050680  0.044451  ... -0.002592  0.002864 -0.025930\n",
              "3 -0.089063 -0.044642 -0.011595  ...  0.034309  0.022692 -0.009362\n",
              "4  0.005383 -0.044642 -0.036385  ... -0.002592 -0.031991 -0.046641\n",
              "\n",
              "[5 rows x 10 columns]"
            ]
          },
          "metadata": {
            "tags": []
          },
          "execution_count": 5
        }
      ]
    },
    {
      "cell_type": "code",
      "metadata": {
        "colab": {
          "base_uri": "https://localhost:8080/"
        },
        "id": "JmEllihPwk_k",
        "outputId": "53f4fe42-1708-4094-bf38-97fbee9ac1c2"
      },
      "source": [
        "df.info()"
      ],
      "execution_count": null,
      "outputs": [
        {
          "output_type": "stream",
          "text": [
            "<class 'pandas.core.frame.DataFrame'>\n",
            "RangeIndex: 442 entries, 0 to 441\n",
            "Data columns (total 10 columns):\n",
            " #   Column  Non-Null Count  Dtype  \n",
            "---  ------  --------------  -----  \n",
            " 0   age     442 non-null    float64\n",
            " 1   sex     442 non-null    float64\n",
            " 2   bmi     442 non-null    float64\n",
            " 3   bp      442 non-null    float64\n",
            " 4   s1      442 non-null    float64\n",
            " 5   s2      442 non-null    float64\n",
            " 6   s3      442 non-null    float64\n",
            " 7   s4      442 non-null    float64\n",
            " 8   s5      442 non-null    float64\n",
            " 9   s6      442 non-null    float64\n",
            "dtypes: float64(10)\n",
            "memory usage: 34.7 KB\n"
          ],
          "name": "stdout"
        }
      ]
    },
    {
      "cell_type": "code",
      "metadata": {
        "colab": {
          "base_uri": "https://localhost:8080/",
          "height": 270,
          "referenced_widgets": [
            "27544de0fe6c481093ad6b15ca49fb9c",
            "073beb209a2640e6aefc0e3dd8bdfb96",
            "b604e7fdc5034afeb076e2340ba262c6",
            "455bd584d73a4cdeb7cae2b00f2a24f5",
            "b014a907e1284b738812365ce72bc558",
            "f5c52ab3ba704d13b147bbdee07ce96d",
            "de7a6d1824304bfca4550eb5052a9c30",
            "b0df9b98efdc42588bd80712087537c9"
          ]
        },
        "id": "lvzbRyFLXwzY",
        "outputId": "f32de3d2-5c2b-4fbe-94e6-69d6648df318"
      },
      "source": [
        "\n",
        "prop_null = 0.1\n",
        "pr = 'bmi'\n",
        "\n",
        "data = df.copy()\n",
        "data.loc[np.random.randint(0,df.shape[0],int(df.shape[0]*prop_null//1)),pr] = None\n",
        "ind = data[data[pr].isna()].index\n",
        "data = data.fillna(data[pr].mean())\n",
        "delta_ = (df - data).loc[ind,pr]\n",
        "\n",
        "delta = np.abs(np.array(data.loc[ind, pr] - df.loc[ind, pr]))\n",
        "print('start: ',delta.mean(),delta.std())\n",
        "cols = list(data.select_dtypes([np.number]).columns) \n",
        "cols.remove(pr)\n",
        "for i in trange(10):\n",
        "  rf = RandomForestRegressor(max_depth=5).fit(data[cols], data[pr])\n",
        "  data.loc[ind, pr] = rf.predict(data.loc[ind, cols])\n",
        "  if i%1 == 0:\n",
        "     delta = np.abs(np.array(data.loc[ind, pr] - df.loc[ind, pr]))\n",
        "     print(i,delta.mean(),delta.std())\n",
        "print('finish: ',delta.mean(),delta.std())     "
      ],
      "execution_count": null,
      "outputs": [
        {
          "output_type": "stream",
          "text": [
            "start:  0.03562134437824085 0.025082186429333946\n"
          ],
          "name": "stdout"
        },
        {
          "output_type": "display_data",
          "data": {
            "application/vnd.jupyter.widget-view+json": {
              "model_id": "27544de0fe6c481093ad6b15ca49fb9c",
              "version_minor": 0,
              "version_major": 2
            },
            "text/plain": [
              "HBox(children=(FloatProgress(value=0.0, max=10.0), HTML(value='')))"
            ]
          },
          "metadata": {
            "tags": []
          }
        },
        {
          "output_type": "stream",
          "text": [
            "0 0.029984707439117127 0.019361047389207253\n",
            "1 0.02957769358715463 0.018751127281164078\n",
            "2 0.02984476598641802 0.018431176080284363\n",
            "3 0.029881179081071817 0.018468557111600697\n",
            "4 0.029935503911327467 0.01829236508366076\n",
            "5 0.030158904782362203 0.01856790645148668\n",
            "6 0.029307157287939048 0.01844964827960685\n",
            "7 0.029377259282965074 0.01876577301896524\n",
            "8 0.029659995771716262 0.019164752634836635\n",
            "9 0.02968562822752591 0.01884461213014131\n",
            "\n",
            "finish:  0.02968562822752591 0.01884461213014131\n"
          ],
          "name": "stdout"
        }
      ]
    },
    {
      "cell_type": "code",
      "metadata": {
        "colab": {
          "base_uri": "https://localhost:8080/"
        },
        "id": "FZkN83vHY9_U",
        "outputId": "b64a540e-c3e0-456c-ab3b-982e0b3e2cc6"
      },
      "source": [
        "_=[print(f\" {x:4.3f} -> {y:4.3f}  \\t{'+' if np.abs(x) > np.abs(y) else '-'}\") for x,y in zip(delta_,(df - data).loc[ind,pr])]"
      ],
      "execution_count": null,
      "outputs": [
        {
          "output_type": "stream",
          "text": [
            " -0.002 -> -0.005  \t-\n",
            " 0.061 -> 0.066  \t-\n",
            " -0.084 -> -0.055  \t+\n",
            " -0.023 -> 0.003  \t+\n",
            " -0.007 -> -0.040  \t-\n",
            " -0.008 -> 0.002  \t+\n",
            " -0.025 -> -0.067  \t-\n",
            " -0.026 -> 0.013  \t+\n",
            " -0.065 -> -0.029  \t+\n",
            " -0.006 -> 0.009  \t-\n",
            " 0.014 -> -0.035  \t-\n",
            " 0.081 -> 0.054  \t+\n",
            " -0.009 -> -0.039  \t-\n",
            " -0.002 -> 0.018  \t-\n",
            " -0.082 -> -0.034  \t+\n",
            " 0.061 -> 0.030  \t+\n",
            " 0.046 -> 0.047  \t-\n",
            " 0.059 -> 0.060  \t-\n",
            " -0.005 -> 0.026  \t-\n",
            " -0.044 -> -0.052  \t-\n",
            " -0.034 -> -0.034  \t-\n",
            " 0.030 -> 0.022  \t+\n",
            " 0.045 -> 0.023  \t+\n",
            " 0.036 -> 0.037  \t-\n",
            " -0.066 -> -0.067  \t-\n",
            " -0.026 -> -0.026  \t+\n",
            " -0.016 -> 0.009  \t+\n",
            " -0.047 -> -0.040  \t+\n",
            " 0.033 -> 0.008  \t+\n",
            " 0.026 -> 0.007  \t+\n",
            " -0.031 -> -0.026  \t+\n",
            " -0.056 -> -0.043  \t+\n",
            " -0.012 -> -0.001  \t+\n",
            " 0.017 -> -0.001  \t+\n",
            " -0.030 -> -0.025  \t+\n",
            " -0.034 -> -0.020  \t+\n",
            " 0.002 -> -0.053  \t-\n",
            " -0.058 -> -0.024  \t+\n",
            " 0.009 -> 0.021  \t-\n",
            " -0.020 -> -0.019  \t+\n",
            " 0.011 -> 0.010  \t+\n",
            " 0.088 -> 0.052  \t+\n",
            " 0.055 -> 0.024  \t+\n",
            " -0.075 -> -0.026  \t+\n"
          ],
          "name": "stdout"
        }
      ]
    },
    {
      "cell_type": "code",
      "metadata": {
        "id": "BK3d7rbG1CLW"
      },
      "source": [
        ""
      ],
      "execution_count": null,
      "outputs": []
    }
  ]
}